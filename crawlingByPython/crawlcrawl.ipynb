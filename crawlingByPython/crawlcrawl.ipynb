{
 "cells": [
  {
   "cell_type": "code",
   "execution_count": null,
   "metadata": {},
   "outputs": [],
   "source": [
    "import requests                  \n",
    "from bs4 import BeautifulSoup   \n",
    "import re\n",
    "\n",
    "response = requests.get('http://www.seoul.go.kr/coronaV/coronaStatus.do#route_page_top')\n",
    "soup = BeautifulSoup(response.content, 'html.parser')\n",
    "table = soup.find('table', {'class':'route-datatable datatable-multi-row'})  \n",
    "data = []       \n",
    "\n",
    "for i,tr in enumerate(table.find_all('tr')):     \n",
    "    tds1 = list(tr.find_all('td'))\n",
    "    for j,td1 in enumerate(tds1):\n",
    "        if td1.find(string='이태원 클럽 관련'): \n",
    "            try:\n",
    "                patientNum=int(tds1[1].text.replace(\"#\",\"\"))\n",
    "            except ValueError:\n",
    "                patientNum=tds1[1].text.replace(\"#\",\"\")\n",
    "            \n",
    "            confirmDate=tds1[3].text\n",
    "            residence=tds1[4].text\n",
    "            hospitalizedTo=tds1[5].text\n",
    "        \n",
    "            route = soup.select(\"script.extra-row-content\")[i-1].get_text()\n",
    "            cleaner = re.compile('<.*?>')\n",
    "            route = re.sub(cleaner,'',route)\n",
    "            route = route.strip()\n",
    "        \n",
    "            data.append([patientNum,confirmDate,residence,hospitalizedTo,route])"
   ]
  },
  {
   "cell_type": "code",
   "execution_count": null,
   "metadata": {},
   "outputs": [],
   "source": [
    "import pandas as pd\n",
    "\n",
    "dataForExcel = pd.DataFrame(data)\n",
    "dataForExcel.columns = ['환자 번호','확진일','거주지','격리시설','이동경로']\n",
    "dataForExcel.to_excel('이태원발 확진환자 크롤링 결과.xlsx',encoding='cp949')"
   ]
  },
  {
   "cell_type": "code",
   "execution_count": null,
   "metadata": {},
   "outputs": [],
   "source": []
  }
 ],
 "metadata": {
  "kernelspec": {
   "display_name": "Python 3",
   "language": "python",
   "name": "python3"
  },
  "language_info": {
   "codemirror_mode": {
    "name": "ipython",
    "version": 3
   },
   "file_extension": ".py",
   "mimetype": "text/x-python",
   "name": "python",
   "nbconvert_exporter": "python",
   "pygments_lexer": "ipython3",
   "version": "3.7.3"
  }
 },
 "nbformat": 4,
 "nbformat_minor": 2
}
