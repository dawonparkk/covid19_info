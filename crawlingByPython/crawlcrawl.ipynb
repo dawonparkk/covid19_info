{
 "cells": [
  {
   "cell_type": "code",
   "execution_count": 2,
   "metadata": {},
   "outputs": [],
   "source": [
    "import requests                  \n",
    "from bs4 import BeautifulSoup   \n",
    "\n",
    "response = requests.get('http://www.seoul.go.kr/coronaV/coronaStatus.do#status_page_top')\n",
    "soup = BeautifulSoup(response.content, 'html.parser')\n",
    "table = soup.find('table', {'class':'tstyle05 tstyleP status-datatable datatable-multi-row'})  \n",
    "data = []                            \n",
    "\n",
    "for tr in table.find_all('tr'):     \n",
    "    tds = list(tr.find_all('td'))                                         \n",
    "    for td in tds:                  \n",
    "       if td.find(string='이태원 클럽 관련'):       \n",
    "        patientNum=tds[0].text\n",
    "        confirmDate=tds[1].text\n",
    "        residence=tds[2].text\n",
    "        hospitalizedTo=tds[5].text\n",
    "        data.append([patientNum,confirmDate,residence,hospitalizedTo])"
   ]
  },
  {
   "cell_type": "code",
   "execution_count": 3,
   "metadata": {},
   "outputs": [],
   "source": [
    "import pandas as pd\n",
    "\n",
    "dataForExcel = pd.DataFrame(data)\n",
    "dataForExcel.columns = ['환자 번호','확진일','거주지','조치사항']\n",
    "dataForExcel.to_excel('이태원발 확진환자 크롤링 결과.xlsx',encoding='cp949')"
   ]
  }
 ],
 "metadata": {
  "kernelspec": {
   "display_name": "Python 3",
   "language": "python",
   "name": "python3"
  },
  "language_info": {
   "codemirror_mode": {
    "name": "ipython",
    "version": 3
   },
   "file_extension": ".py",
   "mimetype": "text/x-python",
   "name": "python",
   "nbconvert_exporter": "python",
   "pygments_lexer": "ipython3",
   "version": "3.7.3"
  }
 },
 "nbformat": 4,
 "nbformat_minor": 2
}
